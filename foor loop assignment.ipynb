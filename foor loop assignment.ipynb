{
 "cells": [
  {
   "cell_type": "markdown",
   "id": "ac8d384f-a856-46ef-8350-fb69e647d106",
   "metadata": {},
   "source": [
    "# Question 1: Write a Python program to print all the numbers from 1 to 10 using a for loop."
   ]
  },
  {
   "cell_type": "code",
   "execution_count": 1,
   "id": "c111beb6-b67b-4125-bf05-bca6450edb93",
   "metadata": {},
   "outputs": [
    {
     "name": "stdout",
     "output_type": "stream",
     "text": [
      "1\n",
      "2\n",
      "3\n",
      "4\n",
      "5\n",
      "6\n",
      "7\n",
      "8\n",
      "9\n",
      "10\n"
     ]
    }
   ],
   "source": [
    "for item in range(1,11,1):\n",
    "    print(item)"
   ]
  },
  {
   "cell_type": "markdown",
   "id": "62708eb4-9e5a-4aa2-9d37-7cf1be2250ae",
   "metadata": {},
   "source": [
    "# Question 2: Write a Python program to find the sum of all numbers from 1 to 100 using a for loop."
   ]
  },
  {
   "cell_type": "code",
   "execution_count": 2,
   "id": "6ae422d5-5d8a-4de3-a5fa-30f8ca3b15ed",
   "metadata": {},
   "outputs": [
    {
     "name": "stdout",
     "output_type": "stream",
     "text": [
      "5050\n"
     ]
    }
   ],
   "source": [
    "n=0\n",
    "for item in range(1,101,1):\n",
    "    n =n+ item\n",
    "\n",
    "    \n",
    "print(n)"
   ]
  },
  {
   "cell_type": "markdown",
   "id": "bad822ec-ea65-49cb-8243-93885210021a",
   "metadata": {},
   "source": [
    "# Question 3: Write a Python program to print the multiplication table of a given number using a for loop."
   ]
  },
  {
   "cell_type": "code",
   "execution_count": 1,
   "id": "953fe59d-72bd-4043-9d16-08711d47d0da",
   "metadata": {},
   "outputs": [
    {
     "name": "stdin",
     "output_type": "stream",
     "text": [
      "Enter a number 5\n"
     ]
    },
    {
     "name": "stdout",
     "output_type": "stream",
     "text": [
      "5x1 =5\n",
      "5x2 =10\n",
      "5x3 =15\n",
      "5x4 =20\n",
      "5x5 =25\n",
      "5x6 =30\n",
      "5x7 =35\n",
      "5x8 =40\n",
      "5x9 =45\n",
      "5x10 =50\n"
     ]
    }
   ],
   "source": [
    "n = int(input(\"Enter a number\"))\n",
    "\n",
    "for i in range(1,11,1):\n",
    "    print(f\"{n}x{i} ={n*i}\")"
   ]
  },
  {
   "cell_type": "markdown",
   "id": "5fec7916-687d-43e9-9a8e-1ba5d61dcd0b",
   "metadata": {},
   "source": [
    "# Question 4: Write a Python program to count the number of even and odd numbers from a series of numbers using a for loop."
   ]
  },
  {
   "cell_type": "code",
   "execution_count": 2,
   "id": "43b75bb5-e719-40c7-a81f-c903a048b51b",
   "metadata": {},
   "outputs": [
    {
     "name": "stdout",
     "output_type": "stream",
     "text": [
      "Even numbers = 5\n",
      "Odd numbers = 5\n"
     ]
    }
   ],
   "source": [
    "numbers = [1,2,3,4,5,6,7,8,9,10] \n",
    "length = len(numbers)\n",
    "count_even =0\n",
    "count_odd =0\n",
    "for list in numbers:\n",
    "    if(list%2==0):\n",
    "        count_even +=1\n",
    "    else:\n",
    "        count_odd +=1\n",
    "\n",
    "print(\"Even numbers =\",count_even)\n",
    "print(\"Odd numbers =\",count_odd)"
   ]
  },
  {
   "cell_type": "markdown",
   "id": "978a863a-0ce1-43fa-bc04-99ec88f40008",
   "metadata": {},
   "source": [
    "# Question 5: Write a Python program to find the factorial of a number using a for loop."
   ]
  },
  {
   "cell_type": "code",
   "execution_count": 3,
   "id": "1e01f31c-6e13-47f0-9844-ea843965d98d",
   "metadata": {},
   "outputs": [
    {
     "name": "stdin",
     "output_type": "stream",
     "text": [
      "Enter number 4\n"
     ]
    },
    {
     "name": "stdout",
     "output_type": "stream",
     "text": [
      "Factorial of a 4 is 24\n"
     ]
    }
   ],
   "source": [
    "n=int(input(\"Enter number\"))\n",
    "factor=1\n",
    "for i in range(1,n+1,1):\n",
    "    factor=factor*i\n",
    "\n",
    "print(f\"Factorial of a {n} is\",factor)"
   ]
  },
  {
   "cell_type": "markdown",
   "id": "78578725-2e2d-4dc3-81cb-e506899cf679",
   "metadata": {},
   "source": [
    "# Question 6: Write a Python program to print the Fibonacci sequence up to a specified number using a for loop."
   ]
  },
  {
   "cell_type": "code",
   "execution_count": 4,
   "id": "de5f4c4e-c46e-48f1-9184-8c8ae823895a",
   "metadata": {},
   "outputs": [
    {
     "name": "stdin",
     "output_type": "stream",
     "text": [
      "Enter number: 5\n"
     ]
    },
    {
     "name": "stdout",
     "output_type": "stream",
     "text": [
      "1 -1 1 3 5 7 9 "
     ]
    }
   ],
   "source": [
    "n=int(input(\"Enter number:\"))\n",
    "sequence = 0\n",
    "for i in range(0,n+1,1):\n",
    "    if i==0:\n",
    "        sequence=1\n",
    "        print(sequence,end=\" \")\n",
    "    sequence=i+(i-1)\n",
    "    print(sequence,end=\" \")"
   ]
  },
  {
   "cell_type": "markdown",
   "id": "85b56f11-3565-463c-9c9a-78543879d125",
   "metadata": {},
   "source": [
    "# Question 7: Write a Python program to check if a given number is prime or not using a for loop."
   ]
  },
  {
   "cell_type": "code",
   "execution_count": 9,
   "id": "25966ff0-7744-4b72-8997-323533f84ab5",
   "metadata": {},
   "outputs": [
    {
     "name": "stdin",
     "output_type": "stream",
     "text": [
      "Enter Number: 2\n"
     ]
    },
    {
     "name": "stdout",
     "output_type": "stream",
     "text": [
      "Prime Number\n"
     ]
    }
   ],
   "source": [
    "n=int(input(\"Enter Number:\"))\n",
    "count=0\n",
    "for item in range(1,n+1,1):\n",
    "    if n%1==0:\n",
    "        count+=1\n",
    "if count==2:\n",
    "    print(\"Prime Number\")\n",
    "else:\n",
    "    print(\"Not a Prime Number\")"
   ]
  },
  {
   "cell_type": "markdown",
   "id": "e9679c11-38e0-4a6e-ad89-d5cc5ec2f710",
   "metadata": {},
   "source": [
    "# Question 8: Write a Python program to find the largest element in a list using a for loop."
   ]
  },
  {
   "cell_type": "code",
   "execution_count": 1,
   "id": "46cb5180-5638-4adf-85a8-f484b07b4d4c",
   "metadata": {},
   "outputs": [
    {
     "name": "stdin",
     "output_type": "stream",
     "text": [
      "Enter number of elements in list: 5\n",
      "Enter elements:  87\n",
      "Enter elements:  98\n",
      "Enter elements:  65\n",
      "Enter elements:  43\n",
      "Enter elements:  76\n"
     ]
    },
    {
     "name": "stdout",
     "output_type": "stream",
     "text": [
      "Largest element is: 98\n"
     ]
    }
   ],
   "source": [
    "list1 = []\n",
    "\n",
    "num = int(input(\"Enter number of elements in list:\"))\n",
    "\n",
    "for i in range(1, num + 1):\n",
    "    ele = int(input(\"Enter elements: \"))\n",
    "    list1.append(ele)\n",
    "\n",
    "\n",
    "print(\"Largest element is:\", max(list1))\n"
   ]
  },
  {
   "cell_type": "markdown",
   "id": "ab425efd-b0fd-400f-be89-51c0d6394026",
   "metadata": {},
   "source": [
    "# Question 9: Write a Python program to reverse a given string using a for loop."
   ]
  },
  {
   "cell_type": "code",
   "execution_count": 38,
   "id": "4a48807c-a353-42f4-8c3d-f2f866503b63",
   "metadata": {},
   "outputs": [
    {
     "name": "stdout",
     "output_type": "stream",
     "text": [
      "MARKIB\n"
     ]
    }
   ],
   "source": [
    "string = \"BIKRAM\"\n",
    "reverse=\"\"\n",
    "for i in range(len(string)-1,-1,-1):\n",
    "    reverse+=string[i]\n",
    "    \n",
    "print(reverse)"
   ]
  },
  {
   "cell_type": "markdown",
   "id": "dfd6686f-ce83-45e7-becf-f4db359bffc6",
   "metadata": {},
   "source": [
    "# Question 10: Write a Python program to find the common elements between two lists using a for loop. List1 = [1,2,3]  List2 = [4,5,1]"
   ]
  },
  {
   "cell_type": "code",
   "execution_count": 2,
   "id": "4fa90e63-f338-4a67-b4ce-2f4e9572d010",
   "metadata": {},
   "outputs": [],
   "source": [
    "list1 =[1,2,3]\n",
    "list2 =[4,5,1]    \n",
    "for i in range"
   ]
  },
  {
   "cell_type": "code",
   "execution_count": null,
   "id": "1cfe5b90-d137-4e40-ab6e-e3cc380c1f6e",
   "metadata": {},
   "outputs": [],
   "source": []
  }
 ],
 "metadata": {
  "kernelspec": {
   "display_name": "Python 3 (ipykernel)",
   "language": "python",
   "name": "python3"
  },
  "language_info": {
   "codemirror_mode": {
    "name": "ipython",
    "version": 3
   },
   "file_extension": ".py",
   "mimetype": "text/x-python",
   "name": "python",
   "nbconvert_exporter": "python",
   "pygments_lexer": "ipython3",
   "version": "3.12.5"
  }
 },
 "nbformat": 4,
 "nbformat_minor": 5
}
